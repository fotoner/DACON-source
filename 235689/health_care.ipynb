{
  "nbformat": 4,
  "nbformat_minor": 0,
  "metadata": {
    "accelerator": "GPU",
    "colab": {
      "name": "health-care.ipynb",
      "provenance": [],
      "collapsed_sections": []
    },
    "kernelspec": {
      "display_name": "Python 3",
      "name": "python3"
    }
  },
  "cells": [
    {
      "cell_type": "code",
      "metadata": {
        "colab": {
          "base_uri": "https://localhost:8080/"
        },
        "id": "XwDmI1PykrRO",
        "outputId": "1f75bd88-becc-409c-95a4-33326f0ba091"
      },
      "source": [
        "from google.colab import drive\n",
        "drive.mount('/content/drive')"
      ],
      "execution_count": null,
      "outputs": [
        {
          "output_type": "stream",
          "text": [
            "Drive already mounted at /content/drive; to attempt to forcibly remount, call drive.mount(\"/content/drive\", force_remount=True).\n"
          ],
          "name": "stdout"
        }
      ]
    },
    {
      "cell_type": "code",
      "metadata": {
        "id": "wKWUSsyUlFjU"
      },
      "source": [
        "import os\n",
        "os.chdir('/content/drive/MyDrive/health-care')"
      ],
      "execution_count": null,
      "outputs": []
    },
    {
      "cell_type": "code",
      "metadata": {
        "id": "WFsnxF91lN_t"
      },
      "source": [
        "import pandas as pd\n",
        "import numpy as np\n",
        "import random\n",
        "import matplotlib.pyplot as plt\n",
        "from tqdm import tqdm\n",
        "from glob import glob\n",
        "\n",
        "from tensorflow import keras\n",
        "import tensorflow as tf\n",
        "import numpy as np\n",
        "\n",
        "import random\n",
        "from collections import defaultdict\n",
        "\n",
        "from sklearn.model_selection import StratifiedKFold\n",
        "from tensorflow.keras.utils import to_categorical\n",
        "\n",
        "SEED = 765\n",
        "\n",
        "tf.random.set_seed(SEED)\n",
        "np.random.seed(SEED)\n",
        "random.seed(SEED)\n",
        "\n",
        "train_features=pd.read_csv('train_features.csv')\n",
        "train_labels =pd.read_csv('train_labels.csv')\n",
        "\n",
        "test=pd.read_csv('test_features.csv')\n",
        "submission=pd.read_csv('sample_submission.csv')"
      ],
      "execution_count": null,
      "outputs": []
    },
    {
      "cell_type": "code",
      "metadata": {
        "colab": {
          "base_uri": "https://localhost:8080/"
        },
        "id": "_uEUHVh7SNdS",
        "outputId": "1ca97e43-be77-4186-8c56-ff38760081bb"
      },
      "source": [
        "train_labels['label_desc'].value_counts()[:]"
      ],
      "execution_count": null,
      "outputs": [
        {
          "output_type": "execute_result",
          "data": {
            "text/plain": [
              "Non-Exercise                                    1518\n",
              "Device on Table                                   97\n",
              "Plank                                             55\n",
              "Wall Squat                                        48\n",
              "Jump Rope                                         47\n",
              "                                                ... \n",
              "Triceps Kickback (knee on bench) (right arm)      13\n",
              "Triceps Kickback (knee on bench) (left arm)       12\n",
              "Arm Band Adjustment                               12\n",
              "Dumbbell Row (knee on bench) (right arm)          12\n",
              "Dumbbell Row (knee on bench) (left arm)           12\n",
              "Name: label_desc, Length: 61, dtype: int64"
            ]
          },
          "metadata": {
            "tags": []
          },
          "execution_count": 43
        }
      ]
    },
    {
      "cell_type": "code",
      "metadata": {
        "id": "639emESSmpdh"
      },
      "source": [
        "train_mean = train_features.mean()\n",
        "train_std = train_features.std()\n",
        "\n",
        "train_min = train_features.min()\n",
        "train_max = train_features.max()\n",
        "\n",
        "after_train = (train_features - train_mean) / train_std \n",
        "# after_train = (train_features - train_min) / (train_max - train_min)\n",
        "\n",
        "test = (test - train_mean) / train_std \n",
        "# test = (test - train_min) / (train_max - train_min)"
      ],
      "execution_count": null,
      "outputs": []
    },
    {
      "cell_type": "code",
      "metadata": {
        "id": "WVge4hVx4pLN"
      },
      "source": [
        "y = train_labels['label']"
      ],
      "execution_count": null,
      "outputs": []
    },
    {
      "cell_type": "code",
      "metadata": {
        "id": "Y-i0eeQMnpzz"
      },
      "source": [
        "X=np.array(tf.reshape(np.array(after_train.iloc[:,2:]),[-1, 600, 6]))\n",
        "# y = tf.keras.utils.to_categorical(train_labels['label']) \n",
        "y = train_labels['label'].to_numpy()"
      ],
      "execution_count": null,
      "outputs": []
    },
    {
      "cell_type": "code",
      "metadata": {
        "id": "kUupwlouLJfy"
      },
      "source": [
        "data_dict = defaultdict(list)\n",
        "\n",
        "for i, tag in enumerate(train_labels['label']):\n",
        "    data_dict[tag].append(np.array(X[i]))"
      ],
      "execution_count": null,
      "outputs": []
    },
    {
      "cell_type": "code",
      "metadata": {
        "id": "-bEsJacWMwaB"
      },
      "source": [
        "data_key = set(data_dict.keys())\n",
        "data_key.remove(26)\n",
        "data_size = len(data_dict[26])"
      ],
      "execution_count": null,
      "outputs": []
    },
    {
      "cell_type": "code",
      "metadata": {
        "id": "dSMrJgk9NUE_"
      },
      "source": [
        "augmentation_dict = defaultdict(list)\n",
        "augmentation_dict[26] = data_dict[26]\n",
        "\n",
        "for key in data_key:\n",
        "    # print(key, end=': ')\n",
        "    augmentation_dict[key] = data_dict[key].copy()\n",
        "\n",
        "    while len(augmentation_dict[key]) != 97 * 2:\n",
        "        target_idx = random.randrange(0,len(data_dict[key]))\n",
        "        shift = int(random.random()*600)\n",
        "\n",
        "        data = data_dict[key][target_idx]\n",
        "\n",
        "        shift_data = np.roll(data, shift, axis=0)\n",
        "\n",
        "        augmentation_dict[key].append(shift_data)\n",
        "    \n",
        "    # print(len(augmentation_dict[key]))\n",
        "\n"
      ],
      "execution_count": null,
      "outputs": []
    },
    {
      "cell_type": "code",
      "metadata": {
        "colab": {
          "base_uri": "https://localhost:8080/",
          "height": 373
        },
        "id": "rW3GoMaFseBF",
        "outputId": "07ba7211-b7bf-41b6-db89-57b36c151962"
      },
      "source": [
        "plt.plot(data)"
      ],
      "execution_count": null,
      "outputs": [
        {
          "output_type": "execute_result",
          "data": {
            "text/plain": [
              "[<matplotlib.lines.Line2D at 0x7eff222876a0>,\n",
              " <matplotlib.lines.Line2D at 0x7eff222877b8>,\n",
              " <matplotlib.lines.Line2D at 0x7eff22287908>,\n",
              " <matplotlib.lines.Line2D at 0x7eff22287a58>,\n",
              " <matplotlib.lines.Line2D at 0x7eff22287ba8>,\n",
              " <matplotlib.lines.Line2D at 0x7eff22287cf8>]"
            ]
          },
          "metadata": {
            "tags": []
          },
          "execution_count": 17
        },
        {
          "output_type": "display_data",
          "data": {
            "image/png": "[encoded data removed]",
            "text/plain": [
              "<Figure size 432x288 with 1 Axes>"
            ]
          },
          "metadata": {
            "tags": [],
            "needs_background": "light"
          }
        }
      ]
    },
    {
      "cell_type": "code",
      "metadata": {
        "colab": {
          "base_uri": "https://localhost:8080/",
          "height": 373
        },
        "id": "j1qPP-LGsjPb",
        "outputId": "f48c6b15-a898-41ba-98d1-68d3a405a364"
      },
      "source": [
        "plt.plot(shift_data)"
      ],
      "execution_count": null,
      "outputs": [
        {
          "output_type": "execute_result",
          "data": {
            "text/plain": [
              "[<matplotlib.lines.Line2D at 0x7eff11d9d898>,\n",
              " <matplotlib.lines.Line2D at 0x7eff11d9d9b0>,\n",
              " <matplotlib.lines.Line2D at 0x7eff11d9db00>,\n",
              " <matplotlib.lines.Line2D at 0x7eff11d9dc50>,\n",
              " <matplotlib.lines.Line2D at 0x7eff11d9dda0>,\n",
              " <matplotlib.lines.Line2D at 0x7eff11d9def0>]"
            ]
          },
          "metadata": {
            "tags": []
          },
          "execution_count": 18
        },
        {
          "output_type": "display_data",
          "data": {
            "image/png": "[encoded data removed]",
            "text/plain": [
              "<Figure size 432x288 with 1 Axes>"
            ]
          },
          "metadata": {
            "tags": [],
            "needs_background": "light"
          }
        }
      ]
    },
    {
      "cell_type": "code",
      "metadata": {
        "id": "t84Gcm2-Pdxq"
      },
      "source": [
        "new_x = []\n",
        "new_y = []\n",
        "\n",
        "for key in augmentation_dict.keys():\n",
        "    new_x += augmentation_dict[key]\n",
        "    new_y += [key for _ in range(len(augmentation_dict[key]))]\n",
        "\n",
        "X = np.array(new_x)\n",
        "# y = tf.keras.utils.to_categorical(new_y)\n",
        "y = np.array(new_y)"
      ],
      "execution_count": null,
      "outputs": []
    },
    {
      "cell_type": "code",
      "metadata": {
        "id": "BfBfh2gil6PY"
      },
      "source": [
        "# def build_model():\n",
        "#     model = keras.models.Sequential([\n",
        "#         keras.layers.Conv1D(128,  30, padding=\"same\", activation=\"relu\", input_shape=(600,6)),\n",
        "#         keras.layers.Dropout(.3),\n",
        "#         keras.layers.Conv1D(128,  30, padding=\"same\", activation=\"relu\"),\n",
        "#         keras.layers.GlobalAveragePooling1D(),\n",
        "#         keras.layers.Dense(64, activation='relu'),\n",
        "#         keras.layers.Dropout(.3),\n",
        "#         keras.layers.Dense(61, activation='softmax'),\n",
        "#     ])\n",
        "\n",
        "#     model.compile(optimizer='adam', loss='categorical_crossentropy', metrics=['accuracy'])\n",
        "#     return model\n",
        "\n",
        "def build_model():\n",
        "    model = keras.models.Sequential([\n",
        "        keras.layers.Conv1D(128,  30, padding=\"same\", activation=\"relu\", input_shape=(600,6)),\n",
        "        keras.layers.GlobalAveragePooling1D(),\n",
        "        keras.layers.Dense(128, activation='relu'),\n",
        "        keras.layers.Dropout(.3),\n",
        "        keras.layers.Dense(61, activation='softmax'),\n",
        "    ])\n",
        "\n",
        "    model.compile(optimizer=keras.optimizers.Adam(.005), loss='categorical_crossentropy', metrics=['accuracy'])\n",
        "    return model\n",
        "\n",
        "# def build_model():\n",
        "#     kernel_size = [5, 10, 15, 30, 60, 120]\n",
        "#     filter = 16\n",
        "\n",
        "#     def multi_kernel(filter_size, input_layer):\n",
        "#         conv_blocks = []\n",
        "\n",
        "#         for ks in kernel_size:\n",
        "#             conv = keras.layers.Conv1D(filter_size, ks, padding=\"same\", activation=\"relu\", strides=1)(input_layer)\n",
        "#             pool = keras.layers.AveragePooling1D()(conv)\n",
        "#             drop = keras.layers.Dropout(.3)(pool)\n",
        "#             conv = keras.layers.Conv1D(filter_size, ks, padding=\"same\", activation=\"relu\", strides=1)(drop)\n",
        "#             pool = keras.layers.AveragePooling1D()(conv)\n",
        "#             drop = keras.layers.Dropout(.3)(pool)\n",
        "#             conv = keras.layers.Conv1D(filter_size, ks, padding=\"same\", activation=\"relu\", strides=1)(drop)\n",
        "#             pool = keras.layers.GlobalAveragePooling1D()(conv)\n",
        "\n",
        "#             conv_blocks.append(pool)\n",
        "        \n",
        "#         return keras.layers.Concatenate()(conv_blocks)\n",
        "\n",
        "#     input_x = keras.layers.Input((600,6))\n",
        "#     convs = multi_kernel(filter, input_x)\n",
        "#     do1 = keras.layers.Dropout(.3)(convs)\n",
        "#     d2 = keras.layers.Dense(128, activation='relu')(do1)\n",
        "#     output = keras.layers.Dense(61, activation='softmax')(d2)\n",
        "\n",
        "#     model = keras.models.Model(input_x, output)\n",
        "#     model.compile(loss='categorical_crossentropy', optimizer=keras.optimizers.Adam(.005), metrics=['acc'])\n",
        "#     # model.compile(loss='categorical_crossentropy', optimizer=keras.optimizers.RMSprop(.003), metrics=['acc'])\n",
        "\n",
        "#     return model"
      ],
      "execution_count": null,
      "outputs": []
    },
    {
      "cell_type": "code",
      "metadata": {
        "id": "pI2svSpQqUiS"
      },
      "source": [
        "def build_model():\n",
        "    kernel_size = 30\n",
        "    filter = 48\n",
        "\n",
        "    def multi_kernel(filter_size, input_layer):\n",
        "        conv_blocks = []\n",
        "\n",
        "        avg = keras.layers.GlobalAveragePooling1D()(input_layer)\n",
        "\n",
        "        conv = keras.layers.Conv1D(filter, kernel_size, padding=\"same\", activation=\"relu\", strides=1)(input_layer)\n",
        "        drop = keras.layers.Dropout(.3)(conv)\n",
        "        conv = keras.layers.Conv1D(filter, kernel_size, padding=\"same\", activation=\"relu\", strides=1)(drop)\n",
        "        conv = keras.layers.Conv1D(6, 1, padding=\"same\", activation=\"relu\", strides=1)(conv)\n",
        "\n",
        "        add = keras.layers.Add()([avg, conv])\n",
        "\n",
        "        att = keras.layers.Attention()([add, input_layer])\n",
        "\n",
        "        return att\n",
        "\n",
        "    input_x = keras.layers.Input((600,6))\n",
        "    convs = multi_kernel(filter, input_x)\n",
        "    convs = multi_kernel(filter, convs)\n",
        "    convs = multi_kernel(filter, convs)\n",
        "    fl = keras.layers.Flatten()(convs)\n",
        "\n",
        "    # concatenate = keras.layers.Concatenate()(convs)\n",
        "    concatenate = fl\n",
        "    do1 = keras.layers.Dropout(.3)(concatenate)\n",
        "    d1 = keras.layers.Dense(256, activation='relu')(do1)\n",
        "    do2 = keras.layers.Dropout(.3)(d1)\n",
        "    d2 = keras.layers.Dense(128, activation='relu')(do2)\n",
        "    do3 = keras.layers.Dropout(.3)(d2)\n",
        "    output = keras.layers.Dense(61, activation='softmax')(do3)\n",
        "\n",
        "    model = keras.models.Model(input_x, output)\n",
        "    model.compile(loss='categorical_crossentropy', optimizer=keras.optimizers.Adam(.003), metrics=['acc'])\n",
        "    # model.compile(loss='categorical_crossentropy', optimizer=keras.optimizers.RMSprop(.003), metrics=['acc'])\n",
        "\n",
        "    return model"
      ],
      "execution_count": null,
      "outputs": []
    },
    {
      "cell_type": "code",
      "metadata": {
        "id": "L6SE-oWZKviW"
      },
      "source": [
        "from keras.layers import Input, Conv2D, GlobalAveragePooling2D, Dense, Activation, BatchNormalization, Flatten, Reshape, multiply, add, MaxPooling2D, Dropout, Conv1D, GlobalAveragePooling1D, MaxPooling1D\n",
        "from keras.models import Model\n",
        "\n",
        "def build_model():\n",
        "    r = 16\n",
        "    d = 4\n",
        "    def spatial_attention(in_layer, in_ch, r, d):\n",
        "        x = Conv1D(in_ch//r, kernel_size=1, padding='same', use_bias=False)(in_layer)\n",
        "        x = BatchNormalization()(x)\n",
        "        x = Activation('relu')(x)\n",
        "        x = Conv1D(in_ch//r, kernel_size=3, padding='same', use_bias=False)(x)\n",
        "        x = BatchNormalization()(x)\n",
        "        x = Activation('relu')(x)\n",
        "        x = Conv1D(in_ch//r, kernel_size=3, padding='same', use_bias=False)(x)\n",
        "        x = BatchNormalization()(x)\n",
        "        x = Activation('relu')(x)\n",
        "        x = Conv1D(1, kernel_size=1, padding='same')(x)\n",
        "        \n",
        "        return x\n",
        "\n",
        "    def channel_attention(in_layer, in_ch, r):\n",
        "        x = GlobalAveragePooling1D()(in_layer)\n",
        "        # x = Flatten()(x) ?? 원래 케라스에서는 GlobalAvgPooling 하면 자동으로 1차원으로 줄어든다. 그래서 그 담에 Flatten 안 넣어준 것\n",
        "        x = Dense(in_ch//r, use_bias=False)(x)\n",
        "        x = BatchNormalization()(x)\n",
        "        x = Activation('relu')(x)\n",
        "        x = Dense(in_ch)(x)\n",
        "        # x = Reshape((1, 1, in_ch))(x)\n",
        "        \n",
        "        return x\n",
        "\n",
        "    def Bottleneck_Attention_Module(in_layer, in_ch, r, d):\n",
        "        Mc = channel_attention(in_layer, in_ch, r)\n",
        "        Ms = spatial_attention(in_layer, in_ch, r, d)\n",
        "        M = multiply([Ms, Mc])\n",
        "        M = Activation('sigmoid')(M)\n",
        "        \n",
        "        x = multiply([in_layer, M])\n",
        "        x = add([in_layer, x])\n",
        "        \n",
        "        return x\n",
        "\n",
        "    input_x = Input((600,6))\n",
        "    x = Conv1D(filters=32, kernel_size=3, strides=1, padding='same', activation='relu')(input_x)\n",
        "    x = Bottleneck_Attention_Module(x, 32, r, d)\n",
        "    x = MaxPooling1D(pool_size=2)(x)\n",
        "    x = Dropout(0.5)(x)\n",
        "    x = Conv1D(filters=32, kernel_size=3, strides=1, padding='same', activation='relu')(x)\n",
        "    x = Bottleneck_Attention_Module(x, 32, r, d)\n",
        "    x = MaxPooling1D(pool_size=2)(x)\n",
        "    x = Flatten()(x)\n",
        "    x = Dense(128, activation='relu')(x)\n",
        "    outputs = keras.layers.Dense(61, activation='softmax')(x)\n",
        "\n",
        "    model = Model(inputs=input_x, outputs=outputs)\n",
        "    model.compile(loss='categorical_crossentropy', optimizer=keras.optimizers.Adam(.002), metrics=['acc'])\n",
        "\n",
        "    return model"
      ],
      "execution_count": null,
      "outputs": []
    },
    {
      "cell_type": "code",
      "metadata": {
        "colab": {
          "base_uri": "https://localhost:8080/"
        },
        "id": "tAY1ovT6UTs9",
        "outputId": "8106ef81-7e44-47e7-92f0-40d78e772ea6"
      },
      "source": [
        "model = build_model()\n",
        "model.summary()\n"
      ],
      "execution_count": null,
      "outputs": [
        {
          "output_type": "stream",
          "text": [
            "Model: \"sequential_3\"\n",
            "_________________________________________________________________\n",
            "Layer (type)                 Output Shape              Param #   \n",
            "=================================================================\n",
            "conv1d_69 (Conv1D)           (None, 600, 128)          23168     \n",
            "_________________________________________________________________\n",
            "global_average_pooling1d_25  (None, 128)               0         \n",
            "_________________________________________________________________\n",
            "dense_18 (Dense)             (None, 128)               16512     \n",
            "_________________________________________________________________\n",
            "dropout_53 (Dropout)         (None, 128)               0         \n",
            "_________________________________________________________________\n",
            "dense_19 (Dense)             (None, 61)                7869      \n",
            "=================================================================\n",
            "Total params: 47,549\n",
            "Trainable params: 47,549\n",
            "Non-trainable params: 0\n",
            "_________________________________________________________________\n"
          ],
          "name": "stdout"
        }
      ]
    },
    {
      "cell_type": "code",
      "metadata": {
        "id": "XE-mP6p-10ww"
      },
      "source": [
        "from sklearn.model_selection import train_test_split\n",
        "train_x, val_x, train_y, val_y = train_test_split(X, y, test_size=0.20, random_state=765, shuffle=True)"
      ],
      "execution_count": null,
      "outputs": []
    },
    {
      "cell_type": "code",
      "metadata": {
        "colab": {
          "base_uri": "https://localhost:8080/"
        },
        "id": "1SSwmouMqS6f",
        "outputId": "26f071c4-8df6-44eb-c97b-cfa8f67ab83d"
      },
      "source": [
        "es = keras.callbacks.EarlyStopping(monitor='val_loss', patience=3)\n",
        "model.fit(train_x, to_categorical(train_y), validation_data=(val_x, to_categorical(val_y)), shuffle=True, epochs=20, batch_size=1024, callbacks=[es])"
      ],
      "execution_count": null,
      "outputs": [
        {
          "output_type": "stream",
          "text": [
            "Epoch 1/20\n",
            "11/11 [==============================] - 1s 74ms/step - loss: 3.7420 - accuracy: 0.1189 - val_loss: 2.5431 - val_accuracy: 0.3210\n",
            "Epoch 2/20\n",
            "11/11 [==============================] - 1s 55ms/step - loss: 2.6075 - accuracy: 0.2949 - val_loss: 1.9804 - val_accuracy: 0.4403\n",
            "Epoch 3/20\n",
            "11/11 [==============================] - 1s 54ms/step - loss: 2.0669 - accuracy: 0.4009 - val_loss: 1.6597 - val_accuracy: 0.5224\n",
            "Epoch 4/20\n",
            "11/11 [==============================] - 1s 66ms/step - loss: 1.7941 - accuracy: 0.4580 - val_loss: 1.4572 - val_accuracy: 0.5919\n",
            "Epoch 5/20\n",
            "11/11 [==============================] - 1s 54ms/step - loss: 1.6038 - accuracy: 0.5084 - val_loss: 1.3130 - val_accuracy: 0.6106\n",
            "Epoch 6/20\n",
            "11/11 [==============================] - 1s 55ms/step - loss: 1.4481 - accuracy: 0.5605 - val_loss: 1.1608 - val_accuracy: 0.6672\n",
            "Epoch 7/20\n",
            "11/11 [==============================] - 1s 54ms/step - loss: 1.3025 - accuracy: 0.5971 - val_loss: 1.0788 - val_accuracy: 0.6831\n",
            "Epoch 8/20\n",
            "11/11 [==============================] - 1s 55ms/step - loss: 1.2149 - accuracy: 0.6194 - val_loss: 0.9831 - val_accuracy: 0.7071\n",
            "Epoch 9/20\n",
            "11/11 [==============================] - 1s 56ms/step - loss: 1.1258 - accuracy: 0.6373 - val_loss: 0.9105 - val_accuracy: 0.7245\n",
            "Epoch 10/20\n",
            "11/11 [==============================] - 1s 54ms/step - loss: 1.0570 - accuracy: 0.6658 - val_loss: 0.8515 - val_accuracy: 0.7413\n",
            "Epoch 11/20\n",
            "11/11 [==============================] - 1s 56ms/step - loss: 0.9931 - accuracy: 0.6810 - val_loss: 0.8081 - val_accuracy: 0.7344\n",
            "Epoch 12/20\n",
            "11/11 [==============================] - 1s 54ms/step - loss: 0.9543 - accuracy: 0.6950 - val_loss: 0.7634 - val_accuracy: 0.7587\n",
            "Epoch 13/20\n",
            "11/11 [==============================] - 1s 55ms/step - loss: 0.8833 - accuracy: 0.7141 - val_loss: 0.7233 - val_accuracy: 0.7682\n",
            "Epoch 14/20\n",
            "11/11 [==============================] - 1s 54ms/step - loss: 0.8667 - accuracy: 0.7163 - val_loss: 0.6892 - val_accuracy: 0.7846\n",
            "Epoch 15/20\n",
            "11/11 [==============================] - 1s 54ms/step - loss: 0.8414 - accuracy: 0.7250 - val_loss: 0.6512 - val_accuracy: 0.7922\n",
            "Epoch 16/20\n",
            "11/11 [==============================] - 1s 56ms/step - loss: 0.7785 - accuracy: 0.7423 - val_loss: 0.6107 - val_accuracy: 0.8138\n",
            "Epoch 17/20\n",
            "11/11 [==============================] - 1s 55ms/step - loss: 0.7590 - accuracy: 0.7448 - val_loss: 0.5926 - val_accuracy: 0.8108\n",
            "Epoch 18/20\n",
            "11/11 [==============================] - 1s 55ms/step - loss: 0.7282 - accuracy: 0.7610 - val_loss: 0.5686 - val_accuracy: 0.8218\n",
            "Epoch 19/20\n",
            "11/11 [==============================] - 1s 56ms/step - loss: 0.6845 - accuracy: 0.7742 - val_loss: 0.5468 - val_accuracy: 0.8279\n",
            "Epoch 20/20\n",
            "11/11 [==============================] - 1s 54ms/step - loss: 0.6978 - accuracy: 0.7692 - val_loss: 0.5067 - val_accuracy: 0.8419\n"
          ],
          "name": "stdout"
        },
        {
          "output_type": "execute_result",
          "data": {
            "text/plain": [
              "<tensorflow.python.keras.callbacks.History at 0x7f67e05cfe80>"
            ]
          },
          "metadata": {
            "tags": []
          },
          "execution_count": 65
        }
      ]
    },
    {
      "cell_type": "code",
      "metadata": {
        "colab": {
          "base_uri": "https://localhost:8080/"
        },
        "id": "-hilTUEtsGOa",
        "outputId": "153179f3-685e-4867-acd2-a744be13d3de"
      },
      "source": [
        "# from sklearn.model_selection import train_test_split\n",
        "# train_x, val_x, train_y, val_y = train_test_split(X, y, test_size=0.20, random_state=765, shuffle=True)\n",
        "\n",
        "n_fold = 5\n",
        "n_class = 61\n",
        "cv = StratifiedKFold(n_splits=n_fold, shuffle=True, random_state=765)\n",
        "\n",
        "test_X=tf.reshape(np.array(test.iloc[:,2:]),[-1, 600, 6])\n",
        "\n",
        "p_val = np.zeros((X.shape[0], n_class))\n",
        "p_tst = np.zeros((test_X.shape[0], n_class))\n",
        "\n",
        "for i, (i_trn, i_val) in enumerate(cv.split(X, y), 1):\n",
        "    print(f'training model for CV #{i}')\n",
        "    es = keras.callbacks.EarlyStopping(monitor='val_loss', min_delta=0.001, patience=3, verbose=1, mode='min', baseline=None, restore_best_weights=True)\n",
        "\n",
        "    clf = build_model()\n",
        "    clf.fit(X[i_trn], to_categorical(y[i_trn]), validation_data=(X[i_val], to_categorical(y[i_val])), epochs=100, batch_size=512, callbacks=[es])\n",
        "    \n",
        "    p_val[i_val, :] = clf.predict(X[i_val])\n",
        "    p_tst += clf.predict(test_X) / n_fold"
      ],
      "execution_count": null,
      "outputs": [
        {
          "output_type": "stream",
          "text": [
            "training model for CV #1\n",
            "[<KerasTensor: shape=(None, 64) dtype=float32 (created by layer 'global_average_pooling1d_43')>, <KerasTensor: shape=(None, 64) dtype=float32 (created by layer 'global_average_pooling1d_44')>, <KerasTensor: shape=(None, 64) dtype=float32 (created by layer 'global_average_pooling1d_45')>]\n",
            "Epoch 1/100\n",
            "12/12 [==============================] - 3s 96ms/step - loss: 4.0236 - acc: 0.1575 - val_loss: 3.7145 - val_acc: 0.2071\n",
            "Epoch 2/100\n",
            "12/12 [==============================] - 0s 35ms/step - loss: 3.6688 - acc: 0.2057 - val_loss: 3.1767 - val_acc: 0.2207\n",
            "Epoch 3/100\n",
            "12/12 [==============================] - 0s 35ms/step - loss: 3.1452 - acc: 0.2269 - val_loss: 2.5708 - val_acc: 0.3154\n",
            "Epoch 4/100\n",
            "12/12 [==============================] - 0s 35ms/step - loss: 2.6445 - acc: 0.2932 - val_loss: 2.1895 - val_acc: 0.3985\n",
            "Epoch 5/100\n",
            "12/12 [==============================] - 0s 35ms/step - loss: 2.2422 - acc: 0.3647 - val_loss: 1.9005 - val_acc: 0.4673\n",
            "Epoch 6/100\n",
            "12/12 [==============================] - 0s 35ms/step - loss: 2.0581 - acc: 0.3970 - val_loss: 1.6992 - val_acc: 0.4952\n",
            "Epoch 7/100\n",
            "12/12 [==============================] - 0s 35ms/step - loss: 1.8549 - acc: 0.4540 - val_loss: 1.5610 - val_acc: 0.5381\n",
            "Epoch 8/100\n",
            "12/12 [==============================] - 0s 35ms/step - loss: 1.7025 - acc: 0.4837 - val_loss: 1.4355 - val_acc: 0.5722\n",
            "Epoch 9/100\n",
            "12/12 [==============================] - 0s 35ms/step - loss: 1.6065 - acc: 0.5109 - val_loss: 1.3433 - val_acc: 0.5824\n",
            "Epoch 10/100\n",
            "12/12 [==============================] - 0s 35ms/step - loss: 1.5205 - acc: 0.5344 - val_loss: 1.2820 - val_acc: 0.6165\n",
            "Epoch 11/100\n",
            "12/12 [==============================] - 0s 35ms/step - loss: 1.4319 - acc: 0.5493 - val_loss: 1.2272 - val_acc: 0.6287\n",
            "Epoch 12/100\n",
            "12/12 [==============================] - 0s 35ms/step - loss: 1.3330 - acc: 0.5787 - val_loss: 1.1616 - val_acc: 0.6267\n",
            "Epoch 13/100\n",
            "12/12 [==============================] - 0s 35ms/step - loss: 1.2663 - acc: 0.5944 - val_loss: 1.0846 - val_acc: 0.6669\n",
            "Epoch 14/100\n",
            "12/12 [==============================] - 0s 35ms/step - loss: 1.2379 - acc: 0.6060 - val_loss: 1.0668 - val_acc: 0.6642\n",
            "Epoch 15/100\n",
            "12/12 [==============================] - 0s 35ms/step - loss: 1.2186 - acc: 0.6141 - val_loss: 1.0196 - val_acc: 0.6628\n",
            "Epoch 16/100\n",
            "12/12 [==============================] - 0s 35ms/step - loss: 1.1313 - acc: 0.6365 - val_loss: 1.0064 - val_acc: 0.6703\n",
            "Epoch 17/100\n",
            "12/12 [==============================] - 0s 36ms/step - loss: 1.1143 - acc: 0.6356 - val_loss: 0.9451 - val_acc: 0.6935\n",
            "Epoch 18/100\n",
            "12/12 [==============================] - 0s 35ms/step - loss: 1.0552 - acc: 0.6493 - val_loss: 0.9341 - val_acc: 0.6928\n",
            "Epoch 19/100\n",
            "12/12 [==============================] - 0s 35ms/step - loss: 0.9863 - acc: 0.6729 - val_loss: 0.8889 - val_acc: 0.7091\n",
            "Epoch 20/100\n",
            "12/12 [==============================] - 0s 35ms/step - loss: 0.9850 - acc: 0.6640 - val_loss: 0.8450 - val_acc: 0.7187\n",
            "Epoch 21/100\n",
            "12/12 [==============================] - 0s 35ms/step - loss: 0.9696 - acc: 0.6812 - val_loss: 0.8607 - val_acc: 0.7132\n",
            "Epoch 22/100\n",
            "12/12 [==============================] - 0s 36ms/step - loss: 0.9460 - acc: 0.6835 - val_loss: 0.8027 - val_acc: 0.7364\n",
            "Epoch 23/100\n",
            "12/12 [==============================] - 0s 35ms/step - loss: 0.9087 - acc: 0.7028 - val_loss: 0.7850 - val_acc: 0.7384\n",
            "Epoch 24/100\n",
            "12/12 [==============================] - 0s 35ms/step - loss: 0.8800 - acc: 0.7056 - val_loss: 0.7638 - val_acc: 0.7432\n",
            "Epoch 25/100\n",
            "12/12 [==============================] - 0s 35ms/step - loss: 0.8567 - acc: 0.7133 - val_loss: 0.7506 - val_acc: 0.7466\n",
            "Epoch 26/100\n",
            "12/12 [==============================] - 0s 35ms/step - loss: 0.8689 - acc: 0.7096 - val_loss: 0.7463 - val_acc: 0.7623\n",
            "Epoch 27/100\n",
            "12/12 [==============================] - 0s 35ms/step - loss: 0.8514 - acc: 0.7106 - val_loss: 0.7305 - val_acc: 0.7568\n",
            "Epoch 28/100\n",
            "12/12 [==============================] - 0s 36ms/step - loss: 0.8456 - acc: 0.7178 - val_loss: 0.7248 - val_acc: 0.7527\n",
            "Epoch 29/100\n",
            "12/12 [==============================] - 0s 35ms/step - loss: 0.7972 - acc: 0.7285 - val_loss: 0.6701 - val_acc: 0.7677\n",
            "Epoch 30/100\n",
            "12/12 [==============================] - 0s 35ms/step - loss: 0.7617 - acc: 0.7404 - val_loss: 0.6524 - val_acc: 0.7677\n",
            "Epoch 31/100\n",
            "12/12 [==============================] - 0s 37ms/step - loss: 0.7519 - acc: 0.7416 - val_loss: 0.6653 - val_acc: 0.7698\n",
            "Epoch 32/100\n",
            "12/12 [==============================] - 0s 35ms/step - loss: 0.7445 - acc: 0.7446 - val_loss: 0.6181 - val_acc: 0.7813\n",
            "Epoch 33/100\n",
            "12/12 [==============================] - 0s 35ms/step - loss: 0.7169 - acc: 0.7597 - val_loss: 0.6045 - val_acc: 0.7800\n",
            "Epoch 34/100\n",
            "12/12 [==============================] - 0s 35ms/step - loss: 0.7313 - acc: 0.7525 - val_loss: 0.5800 - val_acc: 0.7990\n",
            "Epoch 35/100\n",
            "12/12 [==============================] - 0s 36ms/step - loss: 0.6734 - acc: 0.7731 - val_loss: 0.6051 - val_acc: 0.7943\n",
            "Epoch 36/100\n",
            "12/12 [==============================] - 0s 35ms/step - loss: 0.6976 - acc: 0.7637 - val_loss: 0.5859 - val_acc: 0.7950\n",
            "Epoch 37/100\n",
            "12/12 [==============================] - 0s 36ms/step - loss: 0.7031 - acc: 0.7507 - val_loss: 0.5845 - val_acc: 0.8059\n",
            "Restoring model weights from the end of the best epoch.\n",
            "Epoch 00037: early stopping\n",
            "training model for CV #2\n",
            "[<KerasTensor: shape=(None, 64) dtype=float32 (created by layer 'global_average_pooling1d_46')>, <KerasTensor: shape=(None, 64) dtype=float32 (created by layer 'global_average_pooling1d_47')>, <KerasTensor: shape=(None, 64) dtype=float32 (created by layer 'global_average_pooling1d_48')>]\n",
            "Epoch 1/100\n",
            "12/12 [==============================] - 2s 66ms/step - loss: 3.9567 - acc: 0.1519 - val_loss: 3.4847 - val_acc: 0.2166\n",
            "Epoch 2/100\n",
            "12/12 [==============================] - 0s 36ms/step - loss: 3.4287 - acc: 0.2213 - val_loss: 2.9648 - val_acc: 0.2629\n",
            "Epoch 3/100\n",
            "12/12 [==============================] - 0s 35ms/step - loss: 2.9187 - acc: 0.2673 - val_loss: 2.4455 - val_acc: 0.3372\n",
            "Epoch 4/100\n",
            "12/12 [==============================] - 0s 35ms/step - loss: 2.4965 - acc: 0.3212 - val_loss: 2.1647 - val_acc: 0.4121\n",
            "Epoch 5/100\n",
            "12/12 [==============================] - 0s 36ms/step - loss: 2.1951 - acc: 0.3660 - val_loss: 1.9253 - val_acc: 0.4877\n",
            "Epoch 6/100\n",
            "12/12 [==============================] - 0s 35ms/step - loss: 2.0181 - acc: 0.4051 - val_loss: 1.7100 - val_acc: 0.5157\n",
            "Epoch 7/100\n",
            "12/12 [==============================] - 0s 35ms/step - loss: 1.8632 - acc: 0.4466 - val_loss: 1.5750 - val_acc: 0.5531\n",
            "Epoch 8/100\n",
            "12/12 [==============================] - 0s 35ms/step - loss: 1.6794 - acc: 0.4872 - val_loss: 1.4029 - val_acc: 0.5981\n",
            "Epoch 9/100\n",
            "12/12 [==============================] - 0s 35ms/step - loss: 1.5463 - acc: 0.5316 - val_loss: 1.3264 - val_acc: 0.6158\n",
            "Epoch 10/100\n",
            "12/12 [==============================] - 0s 35ms/step - loss: 1.4527 - acc: 0.5523 - val_loss: 1.2519 - val_acc: 0.6185\n",
            "Epoch 11/100\n",
            "12/12 [==============================] - 0s 36ms/step - loss: 1.3727 - acc: 0.5717 - val_loss: 1.1765 - val_acc: 0.6594\n",
            "Epoch 12/100\n",
            "12/12 [==============================] - 0s 35ms/step - loss: 1.2814 - acc: 0.5976 - val_loss: 1.0937 - val_acc: 0.6683\n",
            "Epoch 13/100\n",
            "12/12 [==============================] - 0s 35ms/step - loss: 1.2163 - acc: 0.6011 - val_loss: 1.0639 - val_acc: 0.6812\n",
            "Epoch 14/100\n",
            "12/12 [==============================] - 0s 35ms/step - loss: 1.1818 - acc: 0.6244 - val_loss: 0.9895 - val_acc: 0.6948\n",
            "Epoch 15/100\n",
            "12/12 [==============================] - 0s 35ms/step - loss: 1.1085 - acc: 0.6458 - val_loss: 1.0248 - val_acc: 0.6832\n",
            "Epoch 16/100\n",
            "12/12 [==============================] - 0s 35ms/step - loss: 1.0699 - acc: 0.6482 - val_loss: 0.8922 - val_acc: 0.6982\n",
            "Epoch 17/100\n",
            "12/12 [==============================] - 0s 35ms/step - loss: 1.0204 - acc: 0.6603 - val_loss: 0.8680 - val_acc: 0.7228\n",
            "Epoch 18/100\n",
            "12/12 [==============================] - 0s 35ms/step - loss: 0.9582 - acc: 0.6741 - val_loss: 0.8766 - val_acc: 0.7309\n",
            "Epoch 19/100\n",
            "12/12 [==============================] - 0s 36ms/step - loss: 0.9608 - acc: 0.6723 - val_loss: 0.8118 - val_acc: 0.7452\n",
            "Epoch 20/100\n",
            "12/12 [==============================] - 0s 35ms/step - loss: 0.9071 - acc: 0.6929 - val_loss: 0.7961 - val_acc: 0.7548\n",
            "Epoch 21/100\n",
            "12/12 [==============================] - 0s 35ms/step - loss: 0.8859 - acc: 0.6945 - val_loss: 0.7652 - val_acc: 0.7575\n",
            "Epoch 22/100\n",
            "12/12 [==============================] - 0s 35ms/step - loss: 0.8658 - acc: 0.7060 - val_loss: 0.7892 - val_acc: 0.7561\n",
            "Epoch 23/100\n",
            "12/12 [==============================] - 0s 36ms/step - loss: 0.8345 - acc: 0.7192 - val_loss: 0.7629 - val_acc: 0.7575\n",
            "Epoch 24/100\n",
            "12/12 [==============================] - 0s 37ms/step - loss: 0.8218 - acc: 0.7237 - val_loss: 0.7388 - val_acc: 0.7691\n",
            "Epoch 25/100\n",
            "12/12 [==============================] - 0s 36ms/step - loss: 0.8082 - acc: 0.7243 - val_loss: 0.6833 - val_acc: 0.7827\n",
            "Epoch 26/100\n",
            "12/12 [==============================] - 0s 36ms/step - loss: 0.7641 - acc: 0.7327 - val_loss: 0.7034 - val_acc: 0.7759\n",
            "Epoch 27/100\n",
            "12/12 [==============================] - 0s 35ms/step - loss: 0.7578 - acc: 0.7341 - val_loss: 0.6272 - val_acc: 0.7990\n",
            "Epoch 28/100\n",
            "12/12 [==============================] - 0s 36ms/step - loss: 0.7218 - acc: 0.7464 - val_loss: 0.6506 - val_acc: 0.8011\n",
            "Epoch 29/100\n",
            "12/12 [==============================] - 0s 35ms/step - loss: 0.6836 - acc: 0.7615 - val_loss: 0.6107 - val_acc: 0.8086\n",
            "Epoch 30/100\n",
            "12/12 [==============================] - 0s 36ms/step - loss: 0.6601 - acc: 0.7740 - val_loss: 0.6007 - val_acc: 0.8154\n",
            "Epoch 31/100\n",
            "12/12 [==============================] - 0s 35ms/step - loss: 0.6349 - acc: 0.7814 - val_loss: 0.5976 - val_acc: 0.8147\n",
            "Epoch 32/100\n",
            "12/12 [==============================] - 1s 45ms/step - loss: 0.6538 - acc: 0.7739 - val_loss: 0.5864 - val_acc: 0.8113\n",
            "Epoch 33/100\n",
            "12/12 [==============================] - 0s 36ms/step - loss: 0.6218 - acc: 0.7770 - val_loss: 0.5789 - val_acc: 0.8072\n",
            "Epoch 34/100\n",
            "12/12 [==============================] - 0s 35ms/step - loss: 0.6042 - acc: 0.7811 - val_loss: 0.5538 - val_acc: 0.8236\n",
            "Epoch 35/100\n",
            "12/12 [==============================] - 0s 35ms/step - loss: 0.5948 - acc: 0.7922 - val_loss: 0.5531 - val_acc: 0.8256\n",
            "Epoch 36/100\n",
            "12/12 [==============================] - 0s 36ms/step - loss: 0.5997 - acc: 0.7967 - val_loss: 0.5384 - val_acc: 0.8413\n",
            "Epoch 37/100\n",
            "12/12 [==============================] - 0s 35ms/step - loss: 0.5548 - acc: 0.8040 - val_loss: 0.5309 - val_acc: 0.8256\n",
            "Epoch 38/100\n",
            "12/12 [==============================] - 0s 35ms/step - loss: 0.5241 - acc: 0.8153 - val_loss: 0.5532 - val_acc: 0.8290\n",
            "Epoch 39/100\n",
            "12/12 [==============================] - 0s 35ms/step - loss: 0.5537 - acc: 0.8118 - val_loss: 0.5281 - val_acc: 0.8440\n",
            "Epoch 40/100\n",
            "12/12 [==============================] - 0s 35ms/step - loss: 0.5330 - acc: 0.8144 - val_loss: 0.5020 - val_acc: 0.8583\n",
            "Epoch 41/100\n",
            "12/12 [==============================] - 0s 35ms/step - loss: 0.5168 - acc: 0.8212 - val_loss: 0.5210 - val_acc: 0.8311\n",
            "Epoch 42/100\n",
            "12/12 [==============================] - 0s 35ms/step - loss: 0.5198 - acc: 0.8185 - val_loss: 0.4988 - val_acc: 0.8474\n",
            "Epoch 43/100\n",
            "12/12 [==============================] - 0s 35ms/step - loss: 0.5121 - acc: 0.8195 - val_loss: 0.4824 - val_acc: 0.8501\n",
            "Epoch 44/100\n",
            "12/12 [==============================] - 0s 35ms/step - loss: 0.4907 - acc: 0.8269 - val_loss: 0.4705 - val_acc: 0.8651\n",
            "Epoch 45/100\n",
            "12/12 [==============================] - 0s 35ms/step - loss: 0.4667 - acc: 0.8324 - val_loss: 0.4714 - val_acc: 0.8556\n",
            "Epoch 46/100\n",
            "12/12 [==============================] - 0s 35ms/step - loss: 0.4494 - acc: 0.8414 - val_loss: 0.4627 - val_acc: 0.8706\n",
            "Epoch 47/100\n",
            "12/12 [==============================] - 0s 36ms/step - loss: 0.4525 - acc: 0.8437 - val_loss: 0.4695 - val_acc: 0.8522\n",
            "Epoch 48/100\n",
            "12/12 [==============================] - 0s 35ms/step - loss: 0.4595 - acc: 0.8432 - val_loss: 0.4676 - val_acc: 0.8678\n",
            "Epoch 49/100\n",
            "12/12 [==============================] - 0s 35ms/step - loss: 0.4847 - acc: 0.8276 - val_loss: 0.4812 - val_acc: 0.8474\n",
            "Restoring model weights from the end of the best epoch.\n",
            "Epoch 00049: early stopping\n",
            "training model for CV #3\n",
            "[<KerasTensor: shape=(None, 64) dtype=float32 (created by layer 'global_average_pooling1d_49')>, <KerasTensor: shape=(None, 64) dtype=float32 (created by layer 'global_average_pooling1d_50')>, <KerasTensor: shape=(None, 64) dtype=float32 (created by layer 'global_average_pooling1d_51')>]\n",
            "Epoch 1/100\n",
            "12/12 [==============================] - 2s 65ms/step - loss: 3.9789 - acc: 0.1597 - val_loss: 3.5107 - val_acc: 0.2146\n",
            "Epoch 2/100\n",
            "12/12 [==============================] - 0s 35ms/step - loss: 3.3784 - acc: 0.2239 - val_loss: 2.7631 - val_acc: 0.2827\n",
            "Epoch 3/100\n",
            "12/12 [==============================] - 0s 35ms/step - loss: 2.7724 - acc: 0.2754 - val_loss: 2.2312 - val_acc: 0.3583\n",
            "Epoch 4/100\n",
            "12/12 [==============================] - 0s 35ms/step - loss: 2.3642 - acc: 0.3436 - val_loss: 1.9353 - val_acc: 0.4625\n",
            "Epoch 5/100\n",
            "12/12 [==============================] - 0s 35ms/step - loss: 2.1106 - acc: 0.3796 - val_loss: 1.7392 - val_acc: 0.5095\n",
            "Epoch 6/100\n",
            "12/12 [==============================] - 0s 35ms/step - loss: 1.9479 - acc: 0.4161 - val_loss: 1.6006 - val_acc: 0.5443\n",
            "Epoch 7/100\n",
            "12/12 [==============================] - 0s 35ms/step - loss: 1.7799 - acc: 0.4723 - val_loss: 1.4525 - val_acc: 0.5565\n",
            "Epoch 8/100\n",
            "12/12 [==============================] - 0s 35ms/step - loss: 1.6567 - acc: 0.4943 - val_loss: 1.3447 - val_acc: 0.5995\n",
            "Epoch 9/100\n",
            "12/12 [==============================] - 0s 35ms/step - loss: 1.5130 - acc: 0.5354 - val_loss: 1.2467 - val_acc: 0.6097\n",
            "Epoch 10/100\n",
            "12/12 [==============================] - 0s 36ms/step - loss: 1.4527 - acc: 0.5531 - val_loss: 1.1825 - val_acc: 0.6485\n",
            "Epoch 11/100\n",
            "12/12 [==============================] - 0s 35ms/step - loss: 1.3667 - acc: 0.5728 - val_loss: 1.1069 - val_acc: 0.6519\n",
            "Epoch 12/100\n",
            "12/12 [==============================] - 0s 35ms/step - loss: 1.3342 - acc: 0.5838 - val_loss: 1.0176 - val_acc: 0.6689\n",
            "Epoch 13/100\n",
            "12/12 [==============================] - 0s 35ms/step - loss: 1.2310 - acc: 0.6006 - val_loss: 1.0071 - val_acc: 0.6948\n",
            "Epoch 14/100\n",
            "12/12 [==============================] - 0s 35ms/step - loss: 1.1881 - acc: 0.6228 - val_loss: 0.9108 - val_acc: 0.7084\n",
            "Epoch 15/100\n",
            "12/12 [==============================] - 0s 35ms/step - loss: 1.1030 - acc: 0.6362 - val_loss: 0.8699 - val_acc: 0.7228\n",
            "Epoch 16/100\n",
            "12/12 [==============================] - 0s 35ms/step - loss: 1.0959 - acc: 0.6440 - val_loss: 0.8688 - val_acc: 0.7146\n",
            "Epoch 17/100\n",
            "12/12 [==============================] - 0s 34ms/step - loss: 1.0478 - acc: 0.6578 - val_loss: 0.8187 - val_acc: 0.7364\n",
            "Epoch 18/100\n",
            "12/12 [==============================] - 0s 35ms/step - loss: 0.9741 - acc: 0.6764 - val_loss: 0.7827 - val_acc: 0.7398\n",
            "Epoch 19/100\n",
            "12/12 [==============================] - 0s 35ms/step - loss: 0.9613 - acc: 0.6725 - val_loss: 0.7759 - val_acc: 0.7439\n",
            "Epoch 20/100\n",
            "12/12 [==============================] - 1s 51ms/step - loss: 0.9494 - acc: 0.6841 - val_loss: 0.7359 - val_acc: 0.7527\n",
            "Epoch 21/100\n",
            "12/12 [==============================] - 0s 35ms/step - loss: 0.9231 - acc: 0.6953 - val_loss: 0.7049 - val_acc: 0.7548\n",
            "Epoch 22/100\n",
            "12/12 [==============================] - 0s 35ms/step - loss: 0.9087 - acc: 0.7070 - val_loss: 0.7016 - val_acc: 0.7582\n",
            "Epoch 23/100\n",
            "12/12 [==============================] - 0s 35ms/step - loss: 0.8856 - acc: 0.7056 - val_loss: 0.6988 - val_acc: 0.7575\n",
            "Epoch 24/100\n",
            "12/12 [==============================] - 0s 36ms/step - loss: 0.8487 - acc: 0.7198 - val_loss: 0.6653 - val_acc: 0.7745\n",
            "Epoch 25/100\n",
            "12/12 [==============================] - 0s 35ms/step - loss: 0.7838 - acc: 0.7374 - val_loss: 0.6135 - val_acc: 0.8045\n",
            "Epoch 26/100\n",
            "12/12 [==============================] - 0s 35ms/step - loss: 0.7822 - acc: 0.7339 - val_loss: 0.6506 - val_acc: 0.7691\n",
            "Epoch 27/100\n",
            "12/12 [==============================] - 0s 35ms/step - loss: 0.7495 - acc: 0.7547 - val_loss: 0.5770 - val_acc: 0.7977\n",
            "Epoch 28/100\n",
            "12/12 [==============================] - 0s 35ms/step - loss: 0.7407 - acc: 0.7489 - val_loss: 0.5926 - val_acc: 0.7875\n",
            "Epoch 29/100\n",
            "12/12 [==============================] - 0s 36ms/step - loss: 0.7254 - acc: 0.7501 - val_loss: 0.5763 - val_acc: 0.8086\n",
            "Epoch 30/100\n",
            "12/12 [==============================] - 0s 35ms/step - loss: 0.7121 - acc: 0.7551 - val_loss: 0.5576 - val_acc: 0.8127\n",
            "Epoch 31/100\n",
            "12/12 [==============================] - 0s 35ms/step - loss: 0.6944 - acc: 0.7690 - val_loss: 0.5575 - val_acc: 0.8079\n",
            "Epoch 32/100\n",
            "12/12 [==============================] - 0s 35ms/step - loss: 0.6381 - acc: 0.7806 - val_loss: 0.5006 - val_acc: 0.8222\n",
            "Epoch 33/100\n",
            "12/12 [==============================] - 0s 35ms/step - loss: 0.6567 - acc: 0.7736 - val_loss: 0.5084 - val_acc: 0.8317\n",
            "Epoch 34/100\n",
            "12/12 [==============================] - 0s 34ms/step - loss: 0.6462 - acc: 0.7770 - val_loss: 0.5373 - val_acc: 0.8392\n",
            "Epoch 35/100\n",
            "12/12 [==============================] - 0s 35ms/step - loss: 0.6178 - acc: 0.7892 - val_loss: 0.4892 - val_acc: 0.8270\n",
            "Epoch 36/100\n",
            "12/12 [==============================] - 0s 35ms/step - loss: 0.6292 - acc: 0.7865 - val_loss: 0.4690 - val_acc: 0.8399\n",
            "Epoch 37/100\n",
            "12/12 [==============================] - 0s 35ms/step - loss: 0.5648 - acc: 0.8030 - val_loss: 0.4872 - val_acc: 0.8351\n",
            "Epoch 38/100\n",
            "12/12 [==============================] - 0s 36ms/step - loss: 0.5894 - acc: 0.7954 - val_loss: 0.4554 - val_acc: 0.8406\n",
            "Epoch 39/100\n",
            "12/12 [==============================] - 0s 35ms/step - loss: 0.5744 - acc: 0.7995 - val_loss: 0.4671 - val_acc: 0.8386\n",
            "Epoch 40/100\n",
            "12/12 [==============================] - 0s 35ms/step - loss: 0.5670 - acc: 0.8040 - val_loss: 0.4660 - val_acc: 0.8372\n",
            "Epoch 41/100\n",
            "12/12 [==============================] - 0s 36ms/step - loss: 0.5428 - acc: 0.8099 - val_loss: 0.4592 - val_acc: 0.8386\n",
            "Restoring model weights from the end of the best epoch.\n",
            "Epoch 00041: early stopping\n",
            "training model for CV #4\n",
            "[<KerasTensor: shape=(None, 64) dtype=float32 (created by layer 'global_average_pooling1d_52')>, <KerasTensor: shape=(None, 64) dtype=float32 (created by layer 'global_average_pooling1d_53')>, <KerasTensor: shape=(None, 64) dtype=float32 (created by layer 'global_average_pooling1d_54')>]\n",
            "Epoch 1/100\n",
            "12/12 [==============================] - 2s 89ms/step - loss: 3.9047 - acc: 0.1507 - val_loss: 3.3789 - val_acc: 0.2277\n",
            "Epoch 2/100\n",
            "12/12 [==============================] - 0s 35ms/step - loss: 3.2674 - acc: 0.2313 - val_loss: 2.6590 - val_acc: 0.3054\n",
            "Epoch 3/100\n",
            "12/12 [==============================] - 0s 36ms/step - loss: 2.6898 - acc: 0.2923 - val_loss: 2.1403 - val_acc: 0.4090\n",
            "Epoch 4/100\n",
            "12/12 [==============================] - 0s 35ms/step - loss: 2.2944 - acc: 0.3615 - val_loss: 1.9082 - val_acc: 0.4628\n",
            "Epoch 5/100\n",
            "12/12 [==============================] - 0s 35ms/step - loss: 2.0436 - acc: 0.4177 - val_loss: 1.6842 - val_acc: 0.5194\n",
            "Epoch 6/100\n",
            "12/12 [==============================] - 0s 35ms/step - loss: 1.8117 - acc: 0.4686 - val_loss: 1.5164 - val_acc: 0.5508\n",
            "Epoch 7/100\n",
            "12/12 [==============================] - 0s 35ms/step - loss: 1.6342 - acc: 0.5086 - val_loss: 1.3519 - val_acc: 0.5978\n",
            "Epoch 8/100\n",
            "12/12 [==============================] - 0s 35ms/step - loss: 1.4949 - acc: 0.5410 - val_loss: 1.2709 - val_acc: 0.6258\n",
            "Epoch 9/100\n",
            "12/12 [==============================] - 0s 35ms/step - loss: 1.4130 - acc: 0.5621 - val_loss: 1.1986 - val_acc: 0.6244\n",
            "Epoch 10/100\n",
            "12/12 [==============================] - 0s 35ms/step - loss: 1.3594 - acc: 0.5695 - val_loss: 1.1047 - val_acc: 0.6517\n",
            "Epoch 11/100\n",
            "12/12 [==============================] - 0s 35ms/step - loss: 1.2263 - acc: 0.6040 - val_loss: 1.0167 - val_acc: 0.6755\n",
            "Epoch 12/100\n",
            "12/12 [==============================] - 0s 35ms/step - loss: 1.1758 - acc: 0.6225 - val_loss: 0.9359 - val_acc: 0.6987\n",
            "Epoch 13/100\n",
            "12/12 [==============================] - 1s 49ms/step - loss: 1.0777 - acc: 0.6409 - val_loss: 0.9183 - val_acc: 0.7185\n",
            "Epoch 14/100\n",
            "12/12 [==============================] - 0s 35ms/step - loss: 1.0747 - acc: 0.6499 - val_loss: 0.9093 - val_acc: 0.7096\n",
            "Epoch 15/100\n",
            "12/12 [==============================] - 0s 35ms/step - loss: 1.0196 - acc: 0.6634 - val_loss: 0.8390 - val_acc: 0.7232\n",
            "Epoch 16/100\n",
            "12/12 [==============================] - 0s 35ms/step - loss: 0.9514 - acc: 0.6853 - val_loss: 0.8098 - val_acc: 0.7342\n",
            "Epoch 17/100\n",
            "12/12 [==============================] - 0s 35ms/step - loss: 0.9202 - acc: 0.6943 - val_loss: 0.7802 - val_acc: 0.7594\n",
            "Epoch 18/100\n",
            "12/12 [==============================] - 0s 35ms/step - loss: 0.8994 - acc: 0.6943 - val_loss: 0.7440 - val_acc: 0.7396\n",
            "Epoch 19/100\n",
            "12/12 [==============================] - 0s 35ms/step - loss: 0.8598 - acc: 0.7093 - val_loss: 0.6946 - val_acc: 0.7791\n",
            "Epoch 20/100\n",
            "12/12 [==============================] - 0s 35ms/step - loss: 0.8278 - acc: 0.7171 - val_loss: 0.6789 - val_acc: 0.7764\n",
            "Epoch 21/100\n",
            "12/12 [==============================] - 0s 35ms/step - loss: 0.7773 - acc: 0.7387 - val_loss: 0.6453 - val_acc: 0.7846\n",
            "Epoch 22/100\n",
            "12/12 [==============================] - 0s 36ms/step - loss: 0.7654 - acc: 0.7354 - val_loss: 0.6553 - val_acc: 0.7860\n",
            "Epoch 23/100\n",
            "12/12 [==============================] - 0s 35ms/step - loss: 0.7634 - acc: 0.7443 - val_loss: 0.6516 - val_acc: 0.7853\n",
            "Epoch 24/100\n",
            "12/12 [==============================] - 0s 35ms/step - loss: 0.7370 - acc: 0.7423 - val_loss: 0.5793 - val_acc: 0.8166\n",
            "Epoch 25/100\n",
            "12/12 [==============================] - 0s 35ms/step - loss: 0.7323 - acc: 0.7519 - val_loss: 0.6122 - val_acc: 0.7948\n",
            "Epoch 26/100\n",
            "12/12 [==============================] - 0s 35ms/step - loss: 0.6907 - acc: 0.7650 - val_loss: 0.5811 - val_acc: 0.8119\n",
            "Epoch 27/100\n",
            "12/12 [==============================] - 0s 35ms/step - loss: 0.6844 - acc: 0.7623 - val_loss: 0.5805 - val_acc: 0.8180\n",
            "Restoring model weights from the end of the best epoch.\n",
            "Epoch 00027: early stopping\n",
            "training model for CV #5\n",
            "[<KerasTensor: shape=(None, 64) dtype=float32 (created by layer 'global_average_pooling1d_55')>, <KerasTensor: shape=(None, 64) dtype=float32 (created by layer 'global_average_pooling1d_56')>, <KerasTensor: shape=(None, 64) dtype=float32 (created by layer 'global_average_pooling1d_57')>]\n",
            "Epoch 1/100\n",
            "12/12 [==============================] - 2s 65ms/step - loss: 3.9141 - acc: 0.1586 - val_loss: 3.2850 - val_acc: 0.2386\n",
            "Epoch 2/100\n",
            "12/12 [==============================] - 0s 35ms/step - loss: 3.1828 - acc: 0.2382 - val_loss: 2.6247 - val_acc: 0.2965\n",
            "Epoch 3/100\n",
            "12/12 [==============================] - 0s 34ms/step - loss: 2.6510 - acc: 0.2858 - val_loss: 2.1618 - val_acc: 0.3974\n",
            "Epoch 4/100\n",
            "12/12 [==============================] - 0s 35ms/step - loss: 2.2554 - acc: 0.3581 - val_loss: 1.9312 - val_acc: 0.4390\n",
            "Epoch 5/100\n",
            "12/12 [==============================] - 0s 36ms/step - loss: 2.0087 - acc: 0.4164 - val_loss: 1.7574 - val_acc: 0.4969\n",
            "Epoch 6/100\n",
            "12/12 [==============================] - 0s 35ms/step - loss: 1.8109 - acc: 0.4645 - val_loss: 1.5650 - val_acc: 0.5317\n",
            "Epoch 7/100\n",
            "12/12 [==============================] - 0s 35ms/step - loss: 1.6549 - acc: 0.5013 - val_loss: 1.4069 - val_acc: 0.5644\n",
            "Epoch 8/100\n",
            "12/12 [==============================] - 0s 36ms/step - loss: 1.4885 - acc: 0.5405 - val_loss: 1.2925 - val_acc: 0.6019\n",
            "Epoch 9/100\n",
            "12/12 [==============================] - 0s 36ms/step - loss: 1.4025 - acc: 0.5586 - val_loss: 1.1858 - val_acc: 0.6176\n",
            "Epoch 10/100\n",
            "12/12 [==============================] - 0s 35ms/step - loss: 1.3259 - acc: 0.5843 - val_loss: 1.1255 - val_acc: 0.6319\n",
            "Epoch 11/100\n",
            "12/12 [==============================] - 0s 35ms/step - loss: 1.2506 - acc: 0.6036 - val_loss: 1.0947 - val_acc: 0.6537\n",
            "Epoch 12/100\n",
            "12/12 [==============================] - 0s 35ms/step - loss: 1.2297 - acc: 0.6012 - val_loss: 1.0478 - val_acc: 0.6660\n",
            "Epoch 13/100\n",
            "12/12 [==============================] - 0s 35ms/step - loss: 1.1260 - acc: 0.6422 - val_loss: 0.9617 - val_acc: 0.6844\n",
            "Epoch 14/100\n",
            "12/12 [==============================] - 0s 35ms/step - loss: 1.0330 - acc: 0.6619 - val_loss: 0.9366 - val_acc: 0.6967\n",
            "Epoch 15/100\n",
            "12/12 [==============================] - 0s 35ms/step - loss: 0.9977 - acc: 0.6830 - val_loss: 0.9090 - val_acc: 0.7007\n",
            "Epoch 16/100\n",
            "12/12 [==============================] - 0s 35ms/step - loss: 0.9917 - acc: 0.6730 - val_loss: 0.8770 - val_acc: 0.7117\n",
            "Epoch 17/100\n",
            "12/12 [==============================] - 1s 50ms/step - loss: 0.9222 - acc: 0.7014 - val_loss: 0.8187 - val_acc: 0.7376\n",
            "Epoch 18/100\n",
            "12/12 [==============================] - 0s 35ms/step - loss: 0.8993 - acc: 0.6997 - val_loss: 0.7733 - val_acc: 0.7437\n",
            "Epoch 19/100\n",
            "12/12 [==============================] - 0s 35ms/step - loss: 0.8679 - acc: 0.7097 - val_loss: 0.7592 - val_acc: 0.7423\n",
            "Epoch 20/100\n",
            "12/12 [==============================] - 0s 35ms/step - loss: 0.8564 - acc: 0.7028 - val_loss: 0.7233 - val_acc: 0.7566\n",
            "Epoch 21/100\n",
            "12/12 [==============================] - 0s 36ms/step - loss: 0.8002 - acc: 0.7274 - val_loss: 0.7100 - val_acc: 0.7641\n",
            "Epoch 22/100\n",
            "12/12 [==============================] - 0s 35ms/step - loss: 0.7684 - acc: 0.7404 - val_loss: 0.6643 - val_acc: 0.7805\n",
            "Epoch 23/100\n",
            "12/12 [==============================] - 0s 36ms/step - loss: 0.7735 - acc: 0.7382 - val_loss: 0.6741 - val_acc: 0.7791\n",
            "Epoch 24/100\n",
            "12/12 [==============================] - 0s 36ms/step - loss: 0.7425 - acc: 0.7438 - val_loss: 0.6545 - val_acc: 0.7819\n",
            "Epoch 25/100\n",
            "12/12 [==============================] - 0s 35ms/step - loss: 0.7013 - acc: 0.7617 - val_loss: 0.6415 - val_acc: 0.7791\n",
            "Epoch 26/100\n",
            "12/12 [==============================] - 0s 36ms/step - loss: 0.6980 - acc: 0.7595 - val_loss: 0.6669 - val_acc: 0.7635\n",
            "Epoch 27/100\n",
            "12/12 [==============================] - 0s 37ms/step - loss: 0.6961 - acc: 0.7583 - val_loss: 0.6107 - val_acc: 0.7982\n",
            "Epoch 28/100\n",
            "12/12 [==============================] - 0s 35ms/step - loss: 0.6461 - acc: 0.7771 - val_loss: 0.6005 - val_acc: 0.8091\n",
            "Epoch 29/100\n",
            "12/12 [==============================] - 0s 36ms/step - loss: 0.6558 - acc: 0.7696 - val_loss: 0.5573 - val_acc: 0.8050\n",
            "Epoch 30/100\n",
            "12/12 [==============================] - 0s 36ms/step - loss: 0.6222 - acc: 0.7856 - val_loss: 0.5754 - val_acc: 0.8091\n",
            "Epoch 31/100\n",
            "12/12 [==============================] - 0s 36ms/step - loss: 0.6234 - acc: 0.7917 - val_loss: 0.5524 - val_acc: 0.8200\n",
            "Epoch 32/100\n",
            "12/12 [==============================] - 0s 35ms/step - loss: 0.6017 - acc: 0.7881 - val_loss: 0.5231 - val_acc: 0.8241\n",
            "Epoch 33/100\n",
            "12/12 [==============================] - 0s 36ms/step - loss: 0.5713 - acc: 0.7997 - val_loss: 0.5078 - val_acc: 0.8473\n",
            "Epoch 34/100\n",
            "12/12 [==============================] - 0s 35ms/step - loss: 0.5715 - acc: 0.7932 - val_loss: 0.5087 - val_acc: 0.8316\n",
            "Epoch 35/100\n",
            "12/12 [==============================] - 0s 35ms/step - loss: 0.5676 - acc: 0.8030 - val_loss: 0.5009 - val_acc: 0.8384\n",
            "Epoch 36/100\n",
            "12/12 [==============================] - 0s 35ms/step - loss: 0.5496 - acc: 0.8095 - val_loss: 0.4996 - val_acc: 0.8350\n",
            "Epoch 37/100\n",
            "12/12 [==============================] - 0s 35ms/step - loss: 0.5509 - acc: 0.8052 - val_loss: 0.5121 - val_acc: 0.8384\n",
            "Epoch 38/100\n",
            "12/12 [==============================] - 0s 35ms/step - loss: 0.5158 - acc: 0.8149 - val_loss: 0.4676 - val_acc: 0.8569\n",
            "Epoch 39/100\n",
            "12/12 [==============================] - 0s 35ms/step - loss: 0.5143 - acc: 0.8227 - val_loss: 0.5063 - val_acc: 0.8357\n",
            "Epoch 40/100\n",
            "12/12 [==============================] - 0s 35ms/step - loss: 0.5269 - acc: 0.8195 - val_loss: 0.4912 - val_acc: 0.8466\n",
            "Epoch 41/100\n",
            "12/12 [==============================] - 0s 36ms/step - loss: 0.4898 - acc: 0.8251 - val_loss: 0.4630 - val_acc: 0.8582\n",
            "Epoch 42/100\n",
            "12/12 [==============================] - 0s 35ms/step - loss: 0.4703 - acc: 0.8312 - val_loss: 0.4603 - val_acc: 0.8446\n",
            "Epoch 43/100\n",
            "12/12 [==============================] - 0s 35ms/step - loss: 0.4758 - acc: 0.8313 - val_loss: 0.4762 - val_acc: 0.8603\n",
            "Epoch 44/100\n",
            "12/12 [==============================] - 0s 36ms/step - loss: 0.4621 - acc: 0.8429 - val_loss: 0.4323 - val_acc: 0.8698\n",
            "Epoch 45/100\n",
            "12/12 [==============================] - 0s 36ms/step - loss: 0.4445 - acc: 0.8470 - val_loss: 0.4208 - val_acc: 0.8678\n",
            "Epoch 46/100\n",
            "12/12 [==============================] - 0s 36ms/step - loss: 0.4455 - acc: 0.8450 - val_loss: 0.4567 - val_acc: 0.8616\n",
            "Epoch 47/100\n",
            "12/12 [==============================] - 0s 36ms/step - loss: 0.4484 - acc: 0.8378 - val_loss: 0.4786 - val_acc: 0.8494\n",
            "Epoch 48/100\n",
            "12/12 [==============================] - 0s 35ms/step - loss: 0.4302 - acc: 0.8481 - val_loss: 0.4211 - val_acc: 0.8759\n",
            "Restoring model weights from the end of the best epoch.\n",
            "Epoch 00048: early stopping\n"
          ],
          "name": "stdout"
        }
      ]
    },
    {
      "cell_type": "code",
      "metadata": {
        "id": "xrYAMgJVrfB2"
      },
      "source": [
        "test_X=tf.reshape(np.array(test.iloc[:,2:]),[-1, 600, 6])"
      ],
      "execution_count": null,
      "outputs": []
    },
    {
      "cell_type": "code",
      "metadata": {
        "id": "IUMubQFhrjbw"
      },
      "source": [
        "prediction=model.predict(test_X)\n",
        "submission.iloc[:,1:]=prediction\n",
        "# submission.iloc[:,1:]=p_tst"
      ],
      "execution_count": null,
      "outputs": []
    },
    {
      "cell_type": "code",
      "metadata": {
        "id": "Ah8PGduIrmGd",
        "colab": {
          "base_uri": "https://localhost:8080/"
        },
        "outputId": "e3e10770-fe50-4306-89ca-e729363c65a7"
      },
      "source": [
        "import datetime\n",
        "cur_time = datetime.datetime.now() + datetime.timedelta(hours=9)\n",
        "cur_time_str = f'{cur_time:%Y%m%d}-{cur_time:%H-%M}'\n",
        "model.save(f'{cur_time_str}-model')\n",
        "submission.to_csv(f'{cur_time_str}-submission.csv', index=False)"
      ],
      "execution_count": null,
      "outputs": [
        {
          "output_type": "stream",
          "text": [
            "INFO:tensorflow:Assets written to: 20210215-00-09-model/assets\n"
          ],
          "name": "stdout"
        }
      ]
    },
    {
      "cell_type": "code",
      "metadata": {
        "id": "Tf83x_pMxigQ"
      },
      "source": [
        ""
      ],
      "execution_count": null,
      "outputs": []
    }
  ]
}